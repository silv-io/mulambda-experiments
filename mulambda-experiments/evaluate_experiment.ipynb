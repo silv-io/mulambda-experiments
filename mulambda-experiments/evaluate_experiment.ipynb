{
 "cells": [
  {
   "cell_type": "code",
   "execution_count": 8,
   "metadata": {
    "collapsed": true,
    "ExecuteTime": {
     "end_time": "2023-07-21T10:37:51.997544426Z",
     "start_time": "2023-07-21T10:37:51.956183018Z"
    }
   },
   "outputs": [
    {
     "data": {
      "text/plain": "True"
     },
     "execution_count": 8,
     "metadata": {},
     "output_type": "execute_result"
    }
   ],
   "source": [
    "from galileojp.k3s import K3SGateway\n",
    "from dotenv import load_dotenv\n",
    "import warnings\n",
    "from influxdb_client.client.warnings import MissingPivotFunction\n",
    "\n",
    "warnings.simplefilter(\"ignore\", MissingPivotFunction)\n",
    "\n",
    "\n",
    "load_dotenv()"
   ]
  },
  {
   "cell_type": "code",
   "execution_count": 2,
   "outputs": [
    {
     "data": {
      "text/plain": "{'PATH': '/home/silv/projects/silv-io/mulambda-experiments/.venv/bin:/home/silv/.pyenv/shims:/home/silv/.pyenv/bin:/usr/local/bin:/usr/bin:/usr/local/sbin:/usr/lib/jvm/default/bin:/usr/bin/site_perl:/usr/bin/vendor_perl:/usr/bin/core_perl:/usr/lib/rustup/bin:/home/silv/.local/share/JetBrains/Toolbox/scripts',\n 'INVOCATION_ID': '87fde994fe6345b3bab86127be4b23af',\n 'XAUTHORITY': '/run/user/1000/.mutter-Xwaylandauth.BRY371',\n 'GDMSESSION': 'gnome',\n 'XDG_DATA_DIRS': '/home/silv/.local/share/flatpak/exports/share:/var/lib/flatpak/exports/share:/usr/local/share/:/usr/share/',\n 'MOTD_SHOWN': 'pam',\n 'DBUS_SESSION_BUS_ADDRESS': 'unix:path=/run/user/1000/bus',\n 'LANG': 'en_US.UTF-8',\n 'XDG_SESSION_TYPE': 'wayland',\n 'XDG_ACTIVATION_TOKEN': '<hidden>',\n 'PS1': '(.venv) ',\n 'XDG_CURRENT_DESKTOP': 'GNOME',\n 'JOURNAL_STREAM': '8:30177',\n 'DISPLAY': ':0',\n 'MAIL': '/var/spool/mail/silv',\n 'WAYLAND_DISPLAY': 'wayland-0',\n 'USERNAME': 'silv',\n 'SESSION_MANAGER': 'local/io:@/tmp/.ICE-unix/2176,unix/io:/tmp/.ICE-unix/2176',\n 'LOGNAME': 'silv',\n 'MANAGERPID': '2008',\n 'PWD': '/home/silv/projects/silv-io/mulambda-experiments',\n 'XDG_SESSION_CLASS': 'user',\n 'LANGUAGE': '',\n 'GJS_DEBUG_TOPICS': 'JS ERROR;JS LOG',\n 'PYTHONPATH': '/home/silv/projects/silv-io/mulambda-experiments',\n 'GDM_LANG': 'en_AT.UTF-8',\n 'SHELL': '/usr/bin/zsh',\n 'GIO_LAUNCHED_DESKTOP_FILE': '/usr/share/applications/pycharm-professional.desktop',\n 'PYENV_ROOT': '/home/silv/.pyenv',\n 'DESKTOP_SESSION': 'gnome',\n 'OLDPWD': '/home/silv',\n 'USER': 'silv',\n 'XDG_MENU_PREFIX': 'gnome-',\n 'GIO_LAUNCHED_DESKTOP_FILE_PID': '15156',\n 'GJS_DEBUG_OUTPUT': 'stderr',\n 'SSH_AUTH_SOCK': '/run/user/1000/keyring/ssh',\n 'VIRTUAL_ENV': '/home/silv/projects/silv-io/mulambda-experiments/.venv',\n 'LC_ALL': 'en_US.UTF-8',\n 'DEBUGINFOD_URLS': 'https://debuginfod.archlinux.org ',\n 'SYSTEMD_EXEC_PID': '2196',\n 'XDG_RUNTIME_DIR': '/run/user/1000',\n 'GNOME_SETUP_DISPLAY': ':1',\n 'XDG_SESSION_DESKTOP': 'gnome',\n 'SHLVL': '0',\n 'HOME': '/home/silv',\n 'PYDEVD_USE_FRAME_EVAL': 'NO',\n 'JPY_PARENT_PID': '112211',\n 'TERM': 'xterm-color',\n 'CLICOLOR': '1',\n 'FORCE_COLOR': '1',\n 'CLICOLOR_FORCE': '1',\n 'PAGER': 'cat',\n 'GIT_PAGER': 'cat',\n 'MPLBACKEND': 'module://matplotlib_inline.backend_inline',\n 'galileo_redis_host': 'localhost',\n 'galileo_redis_password': 'o4iljt34wt89l3njr3',\n 'galileo_expdb_driver': 'mixed',\n 'galileo_expdb_sqlite_path': './philipp_galileo.sqlite',\n 'galileo_logging_level': 'DEBUG',\n 'galileo_expdb_mysql_host': 'localhost',\n 'galileo_expdb_mysql_port': '3307',\n 'galileo_expdb_mysql_db': 'galileo',\n 'galileo_expdb_mysql_user': 'galileo',\n 'galileo_expdb_mysql_password': 'galileo',\n 'galileo_expdb_influxdb_url': 'http://localhost:8086',\n 'galileo_expdb_influxdb_token': '<hidden>',\n 'galileo_expdb_influxdb_timeout': '10000',\n 'galileo_expdb_influxdb_org': 'edgerun',\n 'galileo_expdb_influxdb_org_id': '2bb08062bda0d72f',\n 'KUBECONFIG': '/home/silv/exp-cluster/config.yaml'}"
     },
     "execution_count": 2,
     "metadata": {},
     "output_type": "execute_result"
    }
   ],
   "source": [
    "%env"
   ],
   "metadata": {
    "collapsed": false,
    "ExecuteTime": {
     "end_time": "2023-07-21T10:36:10.264382646Z",
     "start_time": "2023-07-21T10:36:10.256620295Z"
    }
   }
  },
  {
   "cell_type": "code",
   "execution_count": 3,
   "outputs": [],
   "source": [
    "gw = K3SGateway.from_env()"
   ],
   "metadata": {
    "collapsed": false,
    "ExecuteTime": {
     "end_time": "2023-07-21T10:36:10.395987891Z",
     "start_time": "2023-07-21T10:36:10.264835243Z"
    }
   }
  },
  {
   "cell_type": "code",
   "execution_count": 9,
   "outputs": [
    {
     "name": "stderr",
     "output_type": "stream",
     "text": [
      "/home/silv/projects/silv-io/mulambda-experiments/.venv/lib/python3.10/site-packages/pandas/io/sql.py:761: UserWarning: pandas only support SQLAlchemy connectable(engine/connection) ordatabase string URI or sqlite3 DBAPI2 connectionother DBAPI2 objects are not tested, please consider using SQLAlchemy\n",
      "  warnings.warn(\n",
      "/home/silv/projects/silv-io/mulambda-experiments/.venv/lib/python3.10/site-packages/pandas/io/sql.py:761: UserWarning: pandas only support SQLAlchemy connectable(engine/connection) ordatabase string URI or sqlite3 DBAPI2 connectionother DBAPI2 objects are not tested, please consider using SQLAlchemy\n",
      "  warnings.warn(\n"
     ]
    },
    {
     "data": {
      "text/plain": "              EXP_ID   NAME CREATOR         START           END       CREATED  \\\n7  202307211217-2a73  local  silvio  1.689935e+09  1.689935e+09  1.689935e+09   \n6  202307200951-6527   test  silvio  1.689839e+09  1.689839e+09  1.689839e+09   \n5  202307200940-2320   test  silvio  1.689839e+09  1.689839e+09  1.689839e+09   \n4  202307200934-fab5   test  silvio  1.689838e+09  1.689839e+09  1.689838e+09   \n3  202307200920-3479   test  silvio  1.689838e+09  1.689838e+09  1.689838e+09   \n2  202307130214-0821   test  silvio  1.689207e+09  1.689207e+09  1.689207e+09   \n1  202307130207-f479   test  silvio  1.689207e+09  1.689207e+09  1.689207e+09   \n0  202307122326-59e7   test  silvio  1.689197e+09  1.689197e+09  1.689197e+09   \n\n     STATUS                                         metadata  \n7  FINISHED  {\"test\": \"test\", \"exp_id\": \"202307211217-2a73\"}  \n6  FINISHED  {\"test\": \"test\", \"exp_id\": \"202307200951-6527\"}  \n5  FINISHED  {\"test\": \"test\", \"exp_id\": \"202307200940-2320\"}  \n4  FINISHED  {\"test\": \"test\", \"exp_id\": \"202307200934-fab5\"}  \n3  FINISHED  {\"test\": \"test\", \"exp_id\": \"202307200920-3479\"}  \n2  FINISHED  {\"test\": \"test\", \"exp_id\": \"202307130214-0821\"}  \n1  FINISHED  {\"test\": \"test\", \"exp_id\": \"202307130207-f479\"}  \n0  FINISHED  {\"test\": \"test\", \"exp_id\": \"202307122326-59e7\"}  ",
      "text/html": "<div>\n<style scoped>\n    .dataframe tbody tr th:only-of-type {\n        vertical-align: middle;\n    }\n\n    .dataframe tbody tr th {\n        vertical-align: top;\n    }\n\n    .dataframe thead th {\n        text-align: right;\n    }\n</style>\n<table border=\"1\" class=\"dataframe\">\n  <thead>\n    <tr style=\"text-align: right;\">\n      <th></th>\n      <th>EXP_ID</th>\n      <th>NAME</th>\n      <th>CREATOR</th>\n      <th>START</th>\n      <th>END</th>\n      <th>CREATED</th>\n      <th>STATUS</th>\n      <th>metadata</th>\n    </tr>\n  </thead>\n  <tbody>\n    <tr>\n      <th>7</th>\n      <td>202307211217-2a73</td>\n      <td>local</td>\n      <td>silvio</td>\n      <td>1.689935e+09</td>\n      <td>1.689935e+09</td>\n      <td>1.689935e+09</td>\n      <td>FINISHED</td>\n      <td>{\"test\": \"test\", \"exp_id\": \"202307211217-2a73\"}</td>\n    </tr>\n    <tr>\n      <th>6</th>\n      <td>202307200951-6527</td>\n      <td>test</td>\n      <td>silvio</td>\n      <td>1.689839e+09</td>\n      <td>1.689839e+09</td>\n      <td>1.689839e+09</td>\n      <td>FINISHED</td>\n      <td>{\"test\": \"test\", \"exp_id\": \"202307200951-6527\"}</td>\n    </tr>\n    <tr>\n      <th>5</th>\n      <td>202307200940-2320</td>\n      <td>test</td>\n      <td>silvio</td>\n      <td>1.689839e+09</td>\n      <td>1.689839e+09</td>\n      <td>1.689839e+09</td>\n      <td>FINISHED</td>\n      <td>{\"test\": \"test\", \"exp_id\": \"202307200940-2320\"}</td>\n    </tr>\n    <tr>\n      <th>4</th>\n      <td>202307200934-fab5</td>\n      <td>test</td>\n      <td>silvio</td>\n      <td>1.689838e+09</td>\n      <td>1.689839e+09</td>\n      <td>1.689838e+09</td>\n      <td>FINISHED</td>\n      <td>{\"test\": \"test\", \"exp_id\": \"202307200934-fab5\"}</td>\n    </tr>\n    <tr>\n      <th>3</th>\n      <td>202307200920-3479</td>\n      <td>test</td>\n      <td>silvio</td>\n      <td>1.689838e+09</td>\n      <td>1.689838e+09</td>\n      <td>1.689838e+09</td>\n      <td>FINISHED</td>\n      <td>{\"test\": \"test\", \"exp_id\": \"202307200920-3479\"}</td>\n    </tr>\n    <tr>\n      <th>2</th>\n      <td>202307130214-0821</td>\n      <td>test</td>\n      <td>silvio</td>\n      <td>1.689207e+09</td>\n      <td>1.689207e+09</td>\n      <td>1.689207e+09</td>\n      <td>FINISHED</td>\n      <td>{\"test\": \"test\", \"exp_id\": \"202307130214-0821\"}</td>\n    </tr>\n    <tr>\n      <th>1</th>\n      <td>202307130207-f479</td>\n      <td>test</td>\n      <td>silvio</td>\n      <td>1.689207e+09</td>\n      <td>1.689207e+09</td>\n      <td>1.689207e+09</td>\n      <td>FINISHED</td>\n      <td>{\"test\": \"test\", \"exp_id\": \"202307130207-f479\"}</td>\n    </tr>\n    <tr>\n      <th>0</th>\n      <td>202307122326-59e7</td>\n      <td>test</td>\n      <td>silvio</td>\n      <td>1.689197e+09</td>\n      <td>1.689197e+09</td>\n      <td>1.689197e+09</td>\n      <td>FINISHED</td>\n      <td>{\"test\": \"test\", \"exp_id\": \"202307122326-59e7\"}</td>\n    </tr>\n  </tbody>\n</table>\n</div>"
     },
     "execution_count": 9,
     "metadata": {},
     "output_type": "execute_result"
    }
   ],
   "source": [
    "gw.experiments().sort_values(by='CREATED', ascending=False).head(10)"
   ],
   "metadata": {
    "collapsed": false,
    "ExecuteTime": {
     "end_time": "2023-07-21T10:37:57.808844916Z",
     "start_time": "2023-07-21T10:37:57.721116424Z"
    }
   }
  },
  {
   "cell_type": "code",
   "execution_count": 5,
   "outputs": [],
   "source": [
    "exp_id = '202307200951-6527'"
   ],
   "metadata": {
    "collapsed": false,
    "ExecuteTime": {
     "end_time": "2023-07-21T10:36:10.595246154Z",
     "start_time": "2023-07-21T10:36:10.550188371Z"
    }
   }
  },
  {
   "cell_type": "code",
   "execution_count": 10,
   "outputs": [
    {
     "data": {
      "text/plain": "                                  value             exp_id metric  \\\nts                                                                  \n2023-07-20 07:51:02.377235174  2.525253  202307200951-6527    cpu   \n2023-07-20 07:51:03.378091574  1.005025  202307200951-6527    cpu   \n2023-07-20 07:51:04.376661301  1.010101  202307200951-6527    cpu   \n2023-07-20 07:51:05.375780821  1.010101  202307200951-6527    cpu   \n2023-07-20 07:51:06.376323462  2.538071  202307200951-6527    cpu   \n2023-07-20 07:51:07.375845909  1.515152  202307200951-6527    cpu   \n2023-07-20 07:51:08.377199650  1.530612  202307200951-6527    cpu   \n2023-07-20 07:51:09.377016306  2.010050  202307200951-6527    cpu   \n2023-07-20 07:51:10.375964642  3.000000  202307200951-6527    cpu   \n2023-07-20 07:51:11.376950979  0.505051  202307200951-6527    cpu   \n\n                                                  node                  ts  \\\nts                                                                           \n2023-07-20 07:51:02.377235174  m10-controller-zone-a-0  1689839462.3772352   \n2023-07-20 07:51:03.378091574  m10-controller-zone-a-0  1689839463.3780916   \n2023-07-20 07:51:04.376661301  m10-controller-zone-a-0  1689839464.3766613   \n2023-07-20 07:51:05.375780821  m10-controller-zone-a-0  1689839465.3757808   \n2023-07-20 07:51:06.376323462  m10-controller-zone-a-0  1689839466.3763235   \n2023-07-20 07:51:07.375845909  m10-controller-zone-a-0   1689839467.375846   \n2023-07-20 07:51:08.377199650  m10-controller-zone-a-0  1689839468.3771996   \n2023-07-20 07:51:09.377016306  m10-controller-zone-a-0  1689839469.3770163   \n2023-07-20 07:51:10.375964642  m10-controller-zone-a-0  1689839470.3759646   \n2023-07-20 07:51:11.376950979  m10-controller-zone-a-0   1689839471.376951   \n\n                              subsystem  \nts                                       \n2023-07-20 07:51:02.377235174       NaN  \n2023-07-20 07:51:03.378091574       NaN  \n2023-07-20 07:51:04.376661301       NaN  \n2023-07-20 07:51:05.375780821       NaN  \n2023-07-20 07:51:06.376323462       NaN  \n2023-07-20 07:51:07.375845909       NaN  \n2023-07-20 07:51:08.377199650       NaN  \n2023-07-20 07:51:09.377016306       NaN  \n2023-07-20 07:51:10.375964642       NaN  \n2023-07-20 07:51:11.376950979       NaN  ",
      "text/html": "<div>\n<style scoped>\n    .dataframe tbody tr th:only-of-type {\n        vertical-align: middle;\n    }\n\n    .dataframe tbody tr th {\n        vertical-align: top;\n    }\n\n    .dataframe thead th {\n        text-align: right;\n    }\n</style>\n<table border=\"1\" class=\"dataframe\">\n  <thead>\n    <tr style=\"text-align: right;\">\n      <th></th>\n      <th>value</th>\n      <th>exp_id</th>\n      <th>metric</th>\n      <th>node</th>\n      <th>ts</th>\n      <th>subsystem</th>\n    </tr>\n    <tr>\n      <th>ts</th>\n      <th></th>\n      <th></th>\n      <th></th>\n      <th></th>\n      <th></th>\n      <th></th>\n    </tr>\n  </thead>\n  <tbody>\n    <tr>\n      <th>2023-07-20 07:51:02.377235174</th>\n      <td>2.525253</td>\n      <td>202307200951-6527</td>\n      <td>cpu</td>\n      <td>m10-controller-zone-a-0</td>\n      <td>1689839462.3772352</td>\n      <td>NaN</td>\n    </tr>\n    <tr>\n      <th>2023-07-20 07:51:03.378091574</th>\n      <td>1.005025</td>\n      <td>202307200951-6527</td>\n      <td>cpu</td>\n      <td>m10-controller-zone-a-0</td>\n      <td>1689839463.3780916</td>\n      <td>NaN</td>\n    </tr>\n    <tr>\n      <th>2023-07-20 07:51:04.376661301</th>\n      <td>1.010101</td>\n      <td>202307200951-6527</td>\n      <td>cpu</td>\n      <td>m10-controller-zone-a-0</td>\n      <td>1689839464.3766613</td>\n      <td>NaN</td>\n    </tr>\n    <tr>\n      <th>2023-07-20 07:51:05.375780821</th>\n      <td>1.010101</td>\n      <td>202307200951-6527</td>\n      <td>cpu</td>\n      <td>m10-controller-zone-a-0</td>\n      <td>1689839465.3757808</td>\n      <td>NaN</td>\n    </tr>\n    <tr>\n      <th>2023-07-20 07:51:06.376323462</th>\n      <td>2.538071</td>\n      <td>202307200951-6527</td>\n      <td>cpu</td>\n      <td>m10-controller-zone-a-0</td>\n      <td>1689839466.3763235</td>\n      <td>NaN</td>\n    </tr>\n    <tr>\n      <th>2023-07-20 07:51:07.375845909</th>\n      <td>1.515152</td>\n      <td>202307200951-6527</td>\n      <td>cpu</td>\n      <td>m10-controller-zone-a-0</td>\n      <td>1689839467.375846</td>\n      <td>NaN</td>\n    </tr>\n    <tr>\n      <th>2023-07-20 07:51:08.377199650</th>\n      <td>1.530612</td>\n      <td>202307200951-6527</td>\n      <td>cpu</td>\n      <td>m10-controller-zone-a-0</td>\n      <td>1689839468.3771996</td>\n      <td>NaN</td>\n    </tr>\n    <tr>\n      <th>2023-07-20 07:51:09.377016306</th>\n      <td>2.010050</td>\n      <td>202307200951-6527</td>\n      <td>cpu</td>\n      <td>m10-controller-zone-a-0</td>\n      <td>1689839469.3770163</td>\n      <td>NaN</td>\n    </tr>\n    <tr>\n      <th>2023-07-20 07:51:10.375964642</th>\n      <td>3.000000</td>\n      <td>202307200951-6527</td>\n      <td>cpu</td>\n      <td>m10-controller-zone-a-0</td>\n      <td>1689839470.3759646</td>\n      <td>NaN</td>\n    </tr>\n    <tr>\n      <th>2023-07-20 07:51:11.376950979</th>\n      <td>0.505051</td>\n      <td>202307200951-6527</td>\n      <td>cpu</td>\n      <td>m10-controller-zone-a-0</td>\n      <td>1689839471.376951</td>\n      <td>NaN</td>\n    </tr>\n  </tbody>\n</table>\n</div>"
     },
     "execution_count": 10,
     "metadata": {},
     "output_type": "execute_result"
    }
   ],
   "source": [
    "gw.telemetry(exp_id).head(10)"
   ],
   "metadata": {
    "collapsed": false,
    "ExecuteTime": {
     "end_time": "2023-07-21T10:38:11.675728843Z",
     "start_time": "2023-07-21T10:38:09.830784930Z"
    }
   }
  },
  {
   "cell_type": "code",
   "execution_count": 11,
   "outputs": [
    {
     "data": {
      "text/plain": "                                                                           value  \\\nts                                                                                 \n2023-07-20 07:51:09.253330469                                  {\"type\": \"start\"}   \n2023-07-20 07:51:09.297752142                                    {\"type\": \"end\"}   \n2023-07-20 07:51:09.360459089  {\"client_id\": \"experiment-client\", \"endpoint\":...   \n2023-07-20 07:51:09.423598528  {\"client_id\": \"experiment-client\", \"endpoint\":...   \n2023-07-20 07:51:09.489501953  {\"client_id\": \"experiment-client\", \"endpoint\":...   \n2023-07-20 07:51:09.553482056  {\"client_id\": \"experiment-client\", \"endpoint\":...   \n2023-07-20 07:51:09.625619411  {\"client_id\": \"experiment-client\", \"endpoint\":...   \n2023-07-20 07:51:09.702177286  {\"client_id\": \"experiment-client\", \"endpoint\":...   \n2023-07-20 07:51:09.772459984  {\"client_id\": \"experiment-client\", \"endpoint\":...   \n2023-07-20 07:51:09.841858864  {\"client_id\": \"experiment-client\", \"endpoint\":...   \n\n                                          exp_id      name                  ts  \nts                                                                              \n2023-07-20 07:51:09.253330469  202307200951-6527  mulambda  1689839469.2533305  \n2023-07-20 07:51:09.297752142  202307200951-6527  mulambda  1689839469.2977521  \n2023-07-20 07:51:09.360459089  202307200951-6527  mulambda   1689839469.360459  \n2023-07-20 07:51:09.423598528  202307200951-6527  mulambda  1689839469.4235985  \n2023-07-20 07:51:09.489501953  202307200951-6527  mulambda   1689839469.489502  \n2023-07-20 07:51:09.553482056  202307200951-6527  mulambda   1689839469.553482  \n2023-07-20 07:51:09.625619411  202307200951-6527  mulambda  1689839469.6256194  \n2023-07-20 07:51:09.702177286  202307200951-6527  mulambda  1689839469.7021773  \n2023-07-20 07:51:09.772459984  202307200951-6527  mulambda    1689839469.77246  \n2023-07-20 07:51:09.841858864  202307200951-6527  mulambda  1689839469.8418589  ",
      "text/html": "<div>\n<style scoped>\n    .dataframe tbody tr th:only-of-type {\n        vertical-align: middle;\n    }\n\n    .dataframe tbody tr th {\n        vertical-align: top;\n    }\n\n    .dataframe thead th {\n        text-align: right;\n    }\n</style>\n<table border=\"1\" class=\"dataframe\">\n  <thead>\n    <tr style=\"text-align: right;\">\n      <th></th>\n      <th>value</th>\n      <th>exp_id</th>\n      <th>name</th>\n      <th>ts</th>\n    </tr>\n    <tr>\n      <th>ts</th>\n      <th></th>\n      <th></th>\n      <th></th>\n      <th></th>\n    </tr>\n  </thead>\n  <tbody>\n    <tr>\n      <th>2023-07-20 07:51:09.253330469</th>\n      <td>{\"type\": \"start\"}</td>\n      <td>202307200951-6527</td>\n      <td>mulambda</td>\n      <td>1689839469.2533305</td>\n    </tr>\n    <tr>\n      <th>2023-07-20 07:51:09.297752142</th>\n      <td>{\"type\": \"end\"}</td>\n      <td>202307200951-6527</td>\n      <td>mulambda</td>\n      <td>1689839469.2977521</td>\n    </tr>\n    <tr>\n      <th>2023-07-20 07:51:09.360459089</th>\n      <td>{\"client_id\": \"experiment-client\", \"endpoint\":...</td>\n      <td>202307200951-6527</td>\n      <td>mulambda</td>\n      <td>1689839469.360459</td>\n    </tr>\n    <tr>\n      <th>2023-07-20 07:51:09.423598528</th>\n      <td>{\"client_id\": \"experiment-client\", \"endpoint\":...</td>\n      <td>202307200951-6527</td>\n      <td>mulambda</td>\n      <td>1689839469.4235985</td>\n    </tr>\n    <tr>\n      <th>2023-07-20 07:51:09.489501953</th>\n      <td>{\"client_id\": \"experiment-client\", \"endpoint\":...</td>\n      <td>202307200951-6527</td>\n      <td>mulambda</td>\n      <td>1689839469.489502</td>\n    </tr>\n    <tr>\n      <th>2023-07-20 07:51:09.553482056</th>\n      <td>{\"client_id\": \"experiment-client\", \"endpoint\":...</td>\n      <td>202307200951-6527</td>\n      <td>mulambda</td>\n      <td>1689839469.553482</td>\n    </tr>\n    <tr>\n      <th>2023-07-20 07:51:09.625619411</th>\n      <td>{\"client_id\": \"experiment-client\", \"endpoint\":...</td>\n      <td>202307200951-6527</td>\n      <td>mulambda</td>\n      <td>1689839469.6256194</td>\n    </tr>\n    <tr>\n      <th>2023-07-20 07:51:09.702177286</th>\n      <td>{\"client_id\": \"experiment-client\", \"endpoint\":...</td>\n      <td>202307200951-6527</td>\n      <td>mulambda</td>\n      <td>1689839469.7021773</td>\n    </tr>\n    <tr>\n      <th>2023-07-20 07:51:09.772459984</th>\n      <td>{\"client_id\": \"experiment-client\", \"endpoint\":...</td>\n      <td>202307200951-6527</td>\n      <td>mulambda</td>\n      <td>1689839469.77246</td>\n    </tr>\n    <tr>\n      <th>2023-07-20 07:51:09.841858864</th>\n      <td>{\"client_id\": \"experiment-client\", \"endpoint\":...</td>\n      <td>202307200951-6527</td>\n      <td>mulambda</td>\n      <td>1689839469.8418589</td>\n    </tr>\n  </tbody>\n</table>\n</div>"
     },
     "execution_count": 11,
     "metadata": {},
     "output_type": "execute_result"
    }
   ],
   "source": [
    "gw.events(exp_id).head(10)"
   ],
   "metadata": {
    "collapsed": false,
    "ExecuteTime": {
     "end_time": "2023-07-21T10:38:46.132220501Z",
     "start_time": "2023-07-21T10:38:46.043768580Z"
    }
   }
  },
  {
   "cell_type": "code",
   "execution_count": 7,
   "outputs": [],
   "source": [],
   "metadata": {
    "collapsed": false,
    "ExecuteTime": {
     "end_time": "2023-07-21T10:36:12.794774Z",
     "start_time": "2023-07-21T10:36:12.742895497Z"
    }
   }
  }
 ],
 "metadata": {
  "kernelspec": {
   "display_name": "Python 3",
   "language": "python",
   "name": "python3"
  },
  "language_info": {
   "codemirror_mode": {
    "name": "ipython",
    "version": 2
   },
   "file_extension": ".py",
   "mimetype": "text/x-python",
   "name": "python",
   "nbconvert_exporter": "python",
   "pygments_lexer": "ipython2",
   "version": "2.7.6"
  }
 },
 "nbformat": 4,
 "nbformat_minor": 0
}
