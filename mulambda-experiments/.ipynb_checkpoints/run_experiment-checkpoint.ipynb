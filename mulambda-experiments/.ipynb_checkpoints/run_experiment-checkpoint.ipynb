{
 "cells": [
  {
   "cell_type": "code",
   "execution_count": null,
   "metadata": {
    "ExecuteTime": {
     "end_time": "2023-07-21T12:55:14.075614193Z",
     "start_time": "2023-07-21T12:55:14.063907261Z"
    }
   },
   "outputs": [],
   "source": [
    "import time\n",
    "\n",
    "from galileo.shell.shell import init\n",
    "from galileo.worker.context import Context\n",
    "from dotenv import load_dotenv\n",
    "\n",
    "load_dotenv()\n"
   ]
  },
  {
   "cell_type": "code",
   "execution_count": null,
   "metadata": {
    "ExecuteTime": {
     "end_time": "2023-07-21T12:55:14.818568092Z",
     "start_time": "2023-07-21T12:55:14.813907822Z"
    }
   },
   "outputs": [],
   "source": [
    "%env"
   ]
  },
  {
   "cell_type": "code",
   "execution_count": null,
   "metadata": {
    "ExecuteTime": {
     "end_time": "2023-07-21T12:55:15.753479171Z",
     "start_time": "2023-07-21T12:55:15.751910881Z"
    }
   },
   "outputs": [],
   "source": [
    "from util import short_uid\n",
    "\n",
    "ctx = Context()\n",
    "rds = ctx.create_redis()\n",
    "g = init(rds)\n",
    "exp = g['exp']\n",
    "telemd = g['telemd']\n",
    "exp_name = \"kubejob\"\n",
    "exp_id = short_uid()"
   ]
  },
  {
   "cell_type": "code",
   "execution_count": null,
   "metadata": {},
   "outputs": [],
   "source": [
    "telemd.start_telemd()\n",
    "exp.start(name=f\"exp-{exp_name}-{exp_id}\", creator=\"silvio\",\n",
    "          metadata={\"exp_name\": exp_name, \"exp_id\": exp_id})"
   ]
  },
  {
   "cell_type": "code",
   "execution_count": null,
   "metadata": {},
   "outputs": [],
   "source": [
    "from util import create_experiment_job\n",
    "\n",
    "create_experiment_job(exp_name, exp_id)"
   ]
  },
  {
   "cell_type": "code",
   "execution_count": null,
   "metadata": {},
   "outputs": [],
   "source": [
    "from util import wait_for_job_completion\n",
    "\n",
    "wait_for_job_completion(f\"exp-{exp_name}-{exp_id}\")\n",
    "# sleep for a bit to make sure galileo has time to send the last message\n",
    "time.sleep(3)\n",
    "telemd.stop_telemd()\n",
    "exp.stop()"
   ]
  }
 ],
 "metadata": {
  "kernelspec": {
   "display_name": "Python 3 (ipykernel)",
   "language": "python",
   "name": "python3"
  },
  "language_info": {
   "codemirror_mode": {
    "name": "ipython",
    "version": 3
   },
   "file_extension": ".py",
   "mimetype": "text/x-python",
   "name": "python",
   "nbconvert_exporter": "python",
   "pygments_lexer": "ipython3",
   "version": "3.10.6"
  }
 },
 "nbformat": 4,
 "nbformat_minor": 1
}
