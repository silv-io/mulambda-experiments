{
 "cells": [
  {
   "cell_type": "code",
   "execution_count": 1,
   "id": "initial_id",
   "metadata": {
    "collapsed": true,
    "ExecuteTime": {
     "end_time": "2023-09-14T02:10:22.932318005Z",
     "start_time": "2023-09-14T02:10:22.862560340Z"
    }
   },
   "outputs": [],
   "source": [
    "import paramiko"
   ]
  },
  {
   "cell_type": "code",
   "execution_count": 2,
   "outputs": [],
   "source": [
    "CMD = \"tc qdisc change dev ens3 root netem delay {}ms\"\n",
    "JUMP_HOST_IP = \"128.131.58.33\"\n",
    "NODES = {\n",
    "    0: \"128.131.58.126\",\n",
    "    1: \"128.131.58.254\",\n",
    "    2: \"128.131.58.204\",\n",
    "    3: \"128.131.58.119\",\n",
    "}\n"
   ],
   "metadata": {
    "collapsed": false,
    "ExecuteTime": {
     "end_time": "2023-09-14T02:10:23.537526246Z",
     "start_time": "2023-09-14T02:10:23.535104345Z"
    }
   },
   "id": "71ba447cf6a0c5fe"
  },
  {
   "cell_type": "code",
   "execution_count": 3,
   "outputs": [],
   "source": [
    "def execute_on_node(node_id: int, cmd: str):\n",
    "    proxy = paramiko.SSHClient()\n",
    "    proxy.set_missing_host_key_policy(paramiko.AutoAddPolicy())\n",
    "    proxy.connect(JUMP_HOST_IP, 22, key_filename=\"/home/silv/.ssh/id_ed25519\",\n",
    "                  username=\"root\")\n",
    "    transport = proxy.get_transport()\n",
    "    channel = transport.open_channel(\"direct-tcpip\", (NODES[node_id], 22),\n",
    "                                     (\"localhost\", 22))\n",
    "\n",
    "    node = paramiko.SSHClient()\n",
    "    node.set_missing_host_key_policy(paramiko.AutoAddPolicy())\n",
    "    node.connect(NODES[node_id], 22, key_filename=\"/home/silv/.ssh/id_ed25519\",\n",
    "                 username=\"root\", sock=channel)\n",
    "    _, stdout, stderr = node.exec_command(cmd)\n",
    "    out = stdout.read().decode('utf8')\n",
    "    err = stderr.read().decode('utf8')\n",
    "    node.close()\n",
    "    proxy.close()\n",
    "    return out, err\n",
    "\n",
    "\n",
    "def set_delay_for_node(node_id: int, delay: int):\n",
    "    execute_on_node(node_id, CMD.format(delay))\n",
    "\n",
    "\n",
    "def get_delay_for_node(node_id: int):\n",
    "    stdout, stderr = execute_on_node(node_id, \"tc qdisc show dev ens3\")\n",
    "    print(stdout)\n",
    "    print(stderr)"
   ],
   "metadata": {
    "collapsed": false,
    "ExecuteTime": {
     "end_time": "2023-09-14T02:10:25.051160177Z",
     "start_time": "2023-09-14T02:10:25.044209199Z"
    }
   },
   "id": "351fddd63b751777"
  },
  {
   "cell_type": "code",
   "execution_count": 4,
   "outputs": [],
   "source": [
    "node_latencies = [0, 0, 0, 0]"
   ],
   "metadata": {
    "collapsed": false,
    "ExecuteTime": {
     "end_time": "2023-09-14T02:10:39.240668469Z",
     "start_time": "2023-09-14T02:10:39.235105805Z"
    }
   },
   "id": "d8c15a0028f98313"
  },
  {
   "cell_type": "code",
   "execution_count": 5,
   "outputs": [],
   "source": [
    "for node_id, latency in enumerate(node_latencies):\n",
    "    set_delay_for_node(node_id, latency)"
   ],
   "metadata": {
    "collapsed": false,
    "ExecuteTime": {
     "end_time": "2023-09-14T02:10:44.973364211Z",
     "start_time": "2023-09-14T02:10:40.634644040Z"
    }
   },
   "id": "defdf4d31f5409b0"
  },
  {
   "cell_type": "code",
   "execution_count": 6,
   "outputs": [
    {
     "name": "stdout",
     "output_type": "stream",
     "text": [
      "qdisc netem 8002: root refcnt 2 limit 1000 delay 10ms\n",
      "\n",
      "qdisc netem 8001: root refcnt 2 limit 1000 delay 30ms\n",
      "\n",
      "qdisc netem 8001: root refcnt 2 limit 1000 delay 100ms\n",
      "\n",
      "qdisc netem 8001: root refcnt 2 limit 1000 delay 300ms\n"
     ]
    }
   ],
   "source": [
    "for node_id in range(4):\n",
    "    get_delay_for_node(node_id)"
   ],
   "metadata": {
    "collapsed": false,
    "ExecuteTime": {
     "end_time": "2023-09-14T02:10:52.529607703Z",
     "start_time": "2023-09-14T02:10:46.119028538Z"
    }
   },
   "id": "2d21789a56ec20f5"
  },
  {
   "cell_type": "code",
   "execution_count": null,
   "outputs": [],
   "source": [],
   "metadata": {
    "collapsed": false
   },
   "id": "56385f8ac0c8ecae"
  }
 ],
 "metadata": {
  "kernelspec": {
   "display_name": "Python 3",
   "language": "python",
   "name": "python3"
  },
  "language_info": {
   "codemirror_mode": {
    "name": "ipython",
    "version": 2
   },
   "file_extension": ".py",
   "mimetype": "text/x-python",
   "name": "python",
   "nbconvert_exporter": "python",
   "pygments_lexer": "ipython2",
   "version": "2.7.6"
  }
 },
 "nbformat": 4,
 "nbformat_minor": 5
}
