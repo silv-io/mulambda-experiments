{
 "cells": [
  {
   "cell_type": "code",
   "execution_count": 1,
   "metadata": {
    "ExecuteTime": {
     "end_time": "2023-09-28T06:33:52.869514806Z",
     "start_time": "2023-09-28T06:33:52.568321904Z"
    }
   },
   "outputs": [
    {
     "data": {
      "text/plain": "True"
     },
     "execution_count": 1,
     "metadata": {},
     "output_type": "execute_result"
    }
   ],
   "source": [
    "import time\n",
    "\n",
    "from galileo.shell.shell import init\n",
    "from galileo.worker.context import Context\n",
    "from dotenv import load_dotenv\n",
    "\n",
    "load_dotenv()\n"
   ]
  },
  {
   "cell_type": "code",
   "execution_count": 2,
   "metadata": {
    "ExecuteTime": {
     "end_time": "2023-09-28T06:33:55.071537470Z",
     "start_time": "2023-09-28T06:33:54.763078211Z"
    }
   },
   "outputs": [],
   "source": [
    "from util import short_uid\n",
    "\n",
    "ctx = Context()\n",
    "rds = ctx.create_redis()\n",
    "g = init(rds)\n",
    "exp = g['exp']\n",
    "telemd = g['telemd']"
   ]
  },
  {
   "cell_type": "code",
   "execution_count": 3,
   "outputs": [],
   "source": [
    "exp_id = f\"man-{short_uid()}\"\n",
    "target = \"mulambda-client\"\n",
    "usecase = \"scp\"\n",
    "amount = 10\n",
    "size = 10\n",
    "iterations = 5"
   ],
   "metadata": {
    "collapsed": false,
    "ExecuteTime": {
     "end_time": "2023-09-28T06:33:55.818893617Z",
     "start_time": "2023-09-28T06:33:55.799119924Z"
    }
   }
  },
  {
   "cell_type": "code",
   "execution_count": 4,
   "outputs": [
    {
     "name": "stdout",
     "output_type": "stream",
     "text": [
      "experiment started\n"
     ]
    }
   ],
   "source": [
    "telemd.start_telemd()\n",
    "exp.start(name=f\"exp-{exp_id}-{target}-{usecase}-{amount}-{size}-{iterations}\",\n",
    "          creator=\"silvio\",\n",
    "          metadata={\"exp_id\": exp_id, \"target\": target, \"usecase\": usecase,\n",
    "                    \"amount\": amount, \"size\": size, \"iterations\": iterations})"
   ],
   "metadata": {
    "collapsed": false,
    "ExecuteTime": {
     "end_time": "2023-09-28T06:33:59.026188318Z",
     "start_time": "2023-09-28T06:33:58.536230524Z"
    }
   }
  },
  {
   "cell_type": "code",
   "execution_count": 5,
   "metadata": {
    "ExecuteTime": {
     "end_time": "2023-09-28T06:34:00.213252989Z",
     "start_time": "2023-09-28T06:34:00.130529540Z"
    }
   },
   "outputs": [
    {
     "name": "stdout",
     "output_type": "stream",
     "text": [
      "Job created. Status='{'active': None,\n",
      " 'completion_time': None,\n",
      " 'conditions': None,\n",
      " 'failed': None,\n",
      " 'start_time': None,\n",
      " 'succeeded': None}'\n"
     ]
    }
   ],
   "source": [
    "from util import create_experiment_job\n",
    "\n",
    "create_experiment_job(exp_id, target, usecase, amount, size, iterations)"
   ]
  },
  {
   "cell_type": "code",
   "execution_count": 22,
   "metadata": {
    "ExecuteTime": {
     "end_time": "2023-09-22T05:06:08.076501906Z",
     "start_time": "2023-09-22T05:06:07.585255098Z"
    }
   },
   "outputs": [],
   "source": []
  },
  {
   "cell_type": "code",
   "execution_count": 6,
   "outputs": [
    {
     "name": "stdout",
     "output_type": "stream",
     "text": [
      "waiting for experiment to end...\n",
      "ok\n"
     ]
    }
   ],
   "source": [
    "telemd.stop_telemd()\n",
    "exp.stop()"
   ],
   "metadata": {
    "collapsed": false,
    "ExecuteTime": {
     "end_time": "2023-09-28T06:36:30.381645763Z",
     "start_time": "2023-09-28T06:36:29.337745401Z"
    }
   }
  },
  {
   "cell_type": "code",
   "execution_count": null,
   "outputs": [],
   "source": [],
   "metadata": {
    "collapsed": false
   }
  }
 ],
 "metadata": {
  "kernelspec": {
   "display_name": "Python 3 (ipykernel)",
   "language": "python",
   "name": "python3"
  },
  "language_info": {
   "codemirror_mode": {
    "name": "ipython",
    "version": 3
   },
   "file_extension": ".py",
   "mimetype": "text/x-python",
   "name": "python",
   "nbconvert_exporter": "python",
   "pygments_lexer": "ipython3",
   "version": "3.10.6"
  }
 },
 "nbformat": 4,
 "nbformat_minor": 1
}
