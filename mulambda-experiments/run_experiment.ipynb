{
 "cells": [
  {
   "cell_type": "code",
   "execution_count": 1,
   "metadata": {
    "ExecuteTime": {
     "end_time": "2023-10-05T08:52:34.630507787Z",
     "start_time": "2023-10-05T08:52:34.440002737Z"
    }
   },
   "outputs": [
    {
     "data": {
      "text/plain": "True"
     },
     "execution_count": 1,
     "metadata": {},
     "output_type": "execute_result"
    }
   ],
   "source": [
    "import time\n",
    "\n",
    "from galileo.shell.shell import init\n",
    "from galileo.worker.context import Context\n",
    "from dotenv import load_dotenv\n",
    "\n",
    "load_dotenv()\n"
   ]
  },
  {
   "cell_type": "code",
   "execution_count": 2,
   "metadata": {
    "ExecuteTime": {
     "end_time": "2023-10-05T08:52:35.512610065Z",
     "start_time": "2023-10-05T08:52:35.312183343Z"
    }
   },
   "outputs": [],
   "source": [
    "from util import short_uid\n",
    "\n",
    "ctx = Context()\n",
    "rds = ctx.create_redis()\n",
    "g = init(rds)\n",
    "exp = g['exp']\n",
    "telemd = g['telemd']"
   ]
  },
  {
   "cell_type": "code",
   "execution_count": 3,
   "outputs": [],
   "source": [
    "exp_id = f\"man-{short_uid()}\"\n",
    "target = \"mulambda-client\"\n",
    "usecase = \"scp\"\n",
    "amount = 10\n",
    "size = 10\n",
    "iterations = 5"
   ],
   "metadata": {
    "collapsed": false,
    "ExecuteTime": {
     "end_time": "2023-09-28T06:33:55.818893617Z",
     "start_time": "2023-09-28T06:33:55.799119924Z"
    }
   }
  },
  {
   "cell_type": "code",
   "execution_count": 4,
   "outputs": [
    {
     "name": "stdout",
     "output_type": "stream",
     "text": [
      "experiment started\n"
     ]
    }
   ],
   "source": [
    "telemd.start_telemd()\n",
    "exp.start(name=f\"exp-{exp_id}-{target}-{usecase}-{amount}-{size}-{iterations}\",\n",
    "          creator=\"silvio\",\n",
    "          metadata={\"exp_id\": exp_id, \"target\": target, \"usecase\": usecase,\n",
    "                    \"amount\": amount, \"size\": size, \"iterations\": iterations})"
   ],
   "metadata": {
    "collapsed": false,
    "ExecuteTime": {
     "end_time": "2023-09-28T06:33:59.026188318Z",
     "start_time": "2023-09-28T06:33:58.536230524Z"
    }
   }
  },
  {
   "cell_type": "code",
   "execution_count": 5,
   "metadata": {
    "ExecuteTime": {
     "end_time": "2023-09-28T06:34:00.213252989Z",
     "start_time": "2023-09-28T06:34:00.130529540Z"
    }
   },
   "outputs": [
    {
     "name": "stdout",
     "output_type": "stream",
     "text": [
      "Job created. Status='{'active': None,\n",
      " 'completion_time': None,\n",
      " 'conditions': None,\n",
      " 'failed': None,\n",
      " 'start_time': None,\n",
      " 'succeeded': None}'\n"
     ]
    }
   ],
   "source": [
    "from util import create_experiment_job\n",
    "\n",
    "create_experiment_job(exp_id, target, usecase, amount, size, iterations)"
   ]
  },
  {
   "cell_type": "code",
   "execution_count": 22,
   "metadata": {
    "ExecuteTime": {
     "end_time": "2023-09-22T05:06:08.076501906Z",
     "start_time": "2023-09-22T05:06:07.585255098Z"
    }
   },
   "outputs": [],
   "source": []
  },
  {
   "cell_type": "code",
   "execution_count": 3,
   "outputs": [
    {
     "ename": "ConnectionError",
     "evalue": "Error 111 connecting to localhost:6379. Connection refused.",
     "output_type": "error",
     "traceback": [
      "\u001B[0;31m---------------------------------------------------------------------------\u001B[0m",
      "\u001B[0;31mConnectionRefusedError\u001B[0m                    Traceback (most recent call last)",
      "File \u001B[0;32m~/projects/silv-io/mulambda-experiments/.venv/lib/python3.10/site-packages/redis/connection.py:559\u001B[0m, in \u001B[0;36mConnection.connect\u001B[0;34m(self)\u001B[0m\n\u001B[1;32m    558\u001B[0m \u001B[38;5;28;01mtry\u001B[39;00m:\n\u001B[0;32m--> 559\u001B[0m     sock \u001B[38;5;241m=\u001B[39m \u001B[38;5;28;43mself\u001B[39;49m\u001B[38;5;241;43m.\u001B[39;49m\u001B[43m_connect\u001B[49m\u001B[43m(\u001B[49m\u001B[43m)\u001B[49m\n\u001B[1;32m    560\u001B[0m \u001B[38;5;28;01mexcept\u001B[39;00m socket\u001B[38;5;241m.\u001B[39mtimeout:\n",
      "File \u001B[0;32m~/projects/silv-io/mulambda-experiments/.venv/lib/python3.10/site-packages/redis/connection.py:615\u001B[0m, in \u001B[0;36mConnection._connect\u001B[0;34m(self)\u001B[0m\n\u001B[1;32m    614\u001B[0m \u001B[38;5;28;01mif\u001B[39;00m err \u001B[38;5;129;01mis\u001B[39;00m \u001B[38;5;129;01mnot\u001B[39;00m \u001B[38;5;28;01mNone\u001B[39;00m:\n\u001B[0;32m--> 615\u001B[0m     \u001B[38;5;28;01mraise\u001B[39;00m err\n\u001B[1;32m    616\u001B[0m \u001B[38;5;28;01mraise\u001B[39;00m socket\u001B[38;5;241m.\u001B[39merror(\u001B[38;5;124m\"\u001B[39m\u001B[38;5;124msocket.getaddrinfo returned an empty list\u001B[39m\u001B[38;5;124m\"\u001B[39m)\n",
      "File \u001B[0;32m~/projects/silv-io/mulambda-experiments/.venv/lib/python3.10/site-packages/redis/connection.py:603\u001B[0m, in \u001B[0;36mConnection._connect\u001B[0;34m(self)\u001B[0m\n\u001B[1;32m    602\u001B[0m \u001B[38;5;66;03m# connect\u001B[39;00m\n\u001B[0;32m--> 603\u001B[0m \u001B[43msock\u001B[49m\u001B[38;5;241;43m.\u001B[39;49m\u001B[43mconnect\u001B[49m\u001B[43m(\u001B[49m\u001B[43msocket_address\u001B[49m\u001B[43m)\u001B[49m\n\u001B[1;32m    605\u001B[0m \u001B[38;5;66;03m# set the socket_timeout now that we're connected\u001B[39;00m\n",
      "\u001B[0;31mConnectionRefusedError\u001B[0m: [Errno 111] Connection refused",
      "\nDuring handling of the above exception, another exception occurred:\n",
      "\u001B[0;31mConnectionError\u001B[0m                           Traceback (most recent call last)",
      "Cell \u001B[0;32mIn[3], line 1\u001B[0m\n\u001B[0;32m----> 1\u001B[0m \u001B[43mtelemd\u001B[49m\u001B[38;5;241;43m.\u001B[39;49m\u001B[43mstop_telemd\u001B[49m\u001B[43m(\u001B[49m\u001B[43m)\u001B[49m\n\u001B[1;32m      2\u001B[0m exp\u001B[38;5;241m.\u001B[39mstop()\n",
      "File \u001B[0;32m~/projects/silv-io/mulambda-experiments/.venv/lib/python3.10/site-packages/galileo/shell/shell.py:292\u001B[0m, in \u001B[0;36mTelemd.stop_telemd\u001B[0;34m(self, hosts)\u001B[0m\n\u001B[1;32m    290\u001B[0m         \u001B[38;5;28mself\u001B[39m\u001B[38;5;241m.\u001B[39mtelemd_ctrl\u001B[38;5;241m.\u001B[39mpause(host)\n\u001B[1;32m    291\u001B[0m \u001B[38;5;28;01melse\u001B[39;00m:\n\u001B[0;32m--> 292\u001B[0m     \u001B[38;5;28;43mself\u001B[39;49m\u001B[38;5;241;43m.\u001B[39;49m\u001B[43mtelemd_ctrl\u001B[49m\u001B[38;5;241;43m.\u001B[39;49m\u001B[43mpause_all\u001B[49m\u001B[43m(\u001B[49m\u001B[43m)\u001B[49m\n",
      "File \u001B[0;32m~/projects/silv-io/mulambda-experiments/.venv/lib/python3.10/site-packages/telemc/controller.py:38\u001B[0m, in \u001B[0;36mTelemetryController.pause_all\u001B[0;34m(self)\u001B[0m\n\u001B[1;32m     37\u001B[0m \u001B[38;5;28;01mdef\u001B[39;00m \u001B[38;5;21mpause_all\u001B[39m(\u001B[38;5;28mself\u001B[39m):\n\u001B[0;32m---> 38\u001B[0m     \u001B[38;5;28;01mfor\u001B[39;00m ch \u001B[38;5;129;01min\u001B[39;00m \u001B[38;5;28;43mself\u001B[39;49m\u001B[38;5;241;43m.\u001B[39;49m\u001B[43m_channels\u001B[49m\u001B[43m(\u001B[49m\u001B[43m)\u001B[49m:\n\u001B[1;32m     39\u001B[0m         \u001B[38;5;28mself\u001B[39m\u001B[38;5;241m.\u001B[39m_send_pause(ch)\n",
      "File \u001B[0;32m~/projects/silv-io/mulambda-experiments/.venv/lib/python3.10/site-packages/telemc/controller.py:52\u001B[0m, in \u001B[0;36mTelemetryController._channels\u001B[0;34m(self)\u001B[0m\n\u001B[1;32m     51\u001B[0m \u001B[38;5;28;01mdef\u001B[39;00m \u001B[38;5;21m_channels\u001B[39m(\u001B[38;5;28mself\u001B[39m):\n\u001B[0;32m---> 52\u001B[0m     \u001B[38;5;28;01mreturn\u001B[39;00m \u001B[38;5;28;43mself\u001B[39;49m\u001B[38;5;241;43m.\u001B[39;49m\u001B[43mrds\u001B[49m\u001B[38;5;241;43m.\u001B[39;49m\u001B[43mpubsub_channels\u001B[49m\u001B[43m(\u001B[49m\u001B[38;5;124;43m'\u001B[39;49m\u001B[38;5;124;43mtelemcmd/*\u001B[39;49m\u001B[38;5;124;43m'\u001B[39;49m\u001B[43m)\u001B[49m\n",
      "File \u001B[0;32m~/projects/silv-io/mulambda-experiments/.venv/lib/python3.10/site-packages/redis/client.py:3104\u001B[0m, in \u001B[0;36mRedis.pubsub_channels\u001B[0;34m(self, pattern)\u001B[0m\n\u001B[1;32m   3100\u001B[0m \u001B[38;5;28;01mdef\u001B[39;00m \u001B[38;5;21mpubsub_channels\u001B[39m(\u001B[38;5;28mself\u001B[39m, pattern\u001B[38;5;241m=\u001B[39m\u001B[38;5;124m'\u001B[39m\u001B[38;5;124m*\u001B[39m\u001B[38;5;124m'\u001B[39m):\n\u001B[1;32m   3101\u001B[0m \u001B[38;5;250m    \u001B[39m\u001B[38;5;124;03m\"\"\"\u001B[39;00m\n\u001B[1;32m   3102\u001B[0m \u001B[38;5;124;03m    Return a list of channels that have at least one subscriber\u001B[39;00m\n\u001B[1;32m   3103\u001B[0m \u001B[38;5;124;03m    \"\"\"\u001B[39;00m\n\u001B[0;32m-> 3104\u001B[0m     \u001B[38;5;28;01mreturn\u001B[39;00m \u001B[38;5;28;43mself\u001B[39;49m\u001B[38;5;241;43m.\u001B[39;49m\u001B[43mexecute_command\u001B[49m\u001B[43m(\u001B[49m\u001B[38;5;124;43m'\u001B[39;49m\u001B[38;5;124;43mPUBSUB CHANNELS\u001B[39;49m\u001B[38;5;124;43m'\u001B[39;49m\u001B[43m,\u001B[49m\u001B[43m \u001B[49m\u001B[43mpattern\u001B[49m\u001B[43m)\u001B[49m\n",
      "File \u001B[0;32m~/projects/silv-io/mulambda-experiments/.venv/lib/python3.10/site-packages/redis/client.py:898\u001B[0m, in \u001B[0;36mRedis.execute_command\u001B[0;34m(self, *args, **options)\u001B[0m\n\u001B[1;32m    896\u001B[0m pool \u001B[38;5;241m=\u001B[39m \u001B[38;5;28mself\u001B[39m\u001B[38;5;241m.\u001B[39mconnection_pool\n\u001B[1;32m    897\u001B[0m command_name \u001B[38;5;241m=\u001B[39m args[\u001B[38;5;241m0\u001B[39m]\n\u001B[0;32m--> 898\u001B[0m conn \u001B[38;5;241m=\u001B[39m \u001B[38;5;28mself\u001B[39m\u001B[38;5;241m.\u001B[39mconnection \u001B[38;5;129;01mor\u001B[39;00m \u001B[43mpool\u001B[49m\u001B[38;5;241;43m.\u001B[39;49m\u001B[43mget_connection\u001B[49m\u001B[43m(\u001B[49m\u001B[43mcommand_name\u001B[49m\u001B[43m,\u001B[49m\u001B[43m \u001B[49m\u001B[38;5;241;43m*\u001B[39;49m\u001B[38;5;241;43m*\u001B[39;49m\u001B[43moptions\u001B[49m\u001B[43m)\u001B[49m\n\u001B[1;32m    899\u001B[0m \u001B[38;5;28;01mtry\u001B[39;00m:\n\u001B[1;32m    900\u001B[0m     conn\u001B[38;5;241m.\u001B[39msend_command(\u001B[38;5;241m*\u001B[39margs)\n",
      "File \u001B[0;32m~/projects/silv-io/mulambda-experiments/.venv/lib/python3.10/site-packages/redis/connection.py:1192\u001B[0m, in \u001B[0;36mConnectionPool.get_connection\u001B[0;34m(self, command_name, *keys, **options)\u001B[0m\n\u001B[1;32m   1188\u001B[0m     \u001B[38;5;28mself\u001B[39m\u001B[38;5;241m.\u001B[39m_in_use_connections\u001B[38;5;241m.\u001B[39madd(connection)\n\u001B[1;32m   1190\u001B[0m \u001B[38;5;28;01mtry\u001B[39;00m:\n\u001B[1;32m   1191\u001B[0m     \u001B[38;5;66;03m# ensure this connection is connected to Redis\u001B[39;00m\n\u001B[0;32m-> 1192\u001B[0m     \u001B[43mconnection\u001B[49m\u001B[38;5;241;43m.\u001B[39;49m\u001B[43mconnect\u001B[49m\u001B[43m(\u001B[49m\u001B[43m)\u001B[49m\n\u001B[1;32m   1193\u001B[0m     \u001B[38;5;66;03m# connections that the pool provides should be ready to send\u001B[39;00m\n\u001B[1;32m   1194\u001B[0m     \u001B[38;5;66;03m# a command. if not, the connection was either returned to the\u001B[39;00m\n\u001B[1;32m   1195\u001B[0m     \u001B[38;5;66;03m# pool before all data has been read or the socket has been\u001B[39;00m\n\u001B[1;32m   1196\u001B[0m     \u001B[38;5;66;03m# closed. either way, reconnect and verify everything is good.\u001B[39;00m\n\u001B[1;32m   1197\u001B[0m     \u001B[38;5;28;01mtry\u001B[39;00m:\n",
      "File \u001B[0;32m~/projects/silv-io/mulambda-experiments/.venv/lib/python3.10/site-packages/redis/connection.py:563\u001B[0m, in \u001B[0;36mConnection.connect\u001B[0;34m(self)\u001B[0m\n\u001B[1;32m    561\u001B[0m     \u001B[38;5;28;01mraise\u001B[39;00m \u001B[38;5;167;01mTimeoutError\u001B[39;00m(\u001B[38;5;124m\"\u001B[39m\u001B[38;5;124mTimeout connecting to server\u001B[39m\u001B[38;5;124m\"\u001B[39m)\n\u001B[1;32m    562\u001B[0m \u001B[38;5;28;01mexcept\u001B[39;00m socket\u001B[38;5;241m.\u001B[39merror \u001B[38;5;28;01mas\u001B[39;00m e:\n\u001B[0;32m--> 563\u001B[0m     \u001B[38;5;28;01mraise\u001B[39;00m \u001B[38;5;167;01mConnectionError\u001B[39;00m(\u001B[38;5;28mself\u001B[39m\u001B[38;5;241m.\u001B[39m_error_message(e))\n\u001B[1;32m    565\u001B[0m \u001B[38;5;28mself\u001B[39m\u001B[38;5;241m.\u001B[39m_sock \u001B[38;5;241m=\u001B[39m sock\n\u001B[1;32m    566\u001B[0m \u001B[38;5;28;01mtry\u001B[39;00m:\n",
      "\u001B[0;31mConnectionError\u001B[0m: Error 111 connecting to localhost:6379. Connection refused."
     ]
    }
   ],
   "source": [
    "telemd.stop_telemd()\n",
    "exp.stop()"
   ],
   "metadata": {
    "collapsed": false,
    "ExecuteTime": {
     "end_time": "2023-10-05T09:08:59.131852593Z",
     "start_time": "2023-10-05T09:08:58.569094678Z"
    }
   }
  },
  {
   "cell_type": "code",
   "execution_count": null,
   "outputs": [],
   "source": [],
   "metadata": {
    "collapsed": false
   }
  }
 ],
 "metadata": {
  "kernelspec": {
   "display_name": "Python 3 (ipykernel)",
   "language": "python",
   "name": "python3"
  },
  "language_info": {
   "codemirror_mode": {
    "name": "ipython",
    "version": 3
   },
   "file_extension": ".py",
   "mimetype": "text/x-python",
   "name": "python",
   "nbconvert_exporter": "python",
   "pygments_lexer": "ipython3",
   "version": "3.10.6"
  }
 },
 "nbformat": 4,
 "nbformat_minor": 1
}
