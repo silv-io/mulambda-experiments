{
 "cells": [
  {
   "cell_type": "code",
   "execution_count": 1,
   "metadata": {
    "collapsed": true,
    "ExecuteTime": {
     "end_time": "2023-07-21T10:17:19.495434794Z",
     "start_time": "2023-07-21T10:17:19.320888043Z"
    }
   },
   "outputs": [
    {
     "data": {
      "text/plain": "True"
     },
     "execution_count": 1,
     "metadata": {},
     "output_type": "execute_result"
    }
   ],
   "source": [
    "from galileo.shell.shell import init\n",
    "from galileo.worker.context import Context\n",
    "from dotenv import load_dotenv\n",
    "\n",
    "load_dotenv()\n"
   ]
  },
  {
   "cell_type": "code",
   "execution_count": 2,
   "outputs": [
    {
     "data": {
      "text/plain": "{'PATH': '/home/silv/projects/silv-io/mulambda-experiments/.venv/bin:/home/silv/.pyenv/shims:/home/silv/.pyenv/bin:/usr/local/bin:/usr/bin:/usr/local/sbin:/usr/lib/jvm/default/bin:/usr/bin/site_perl:/usr/bin/vendor_perl:/usr/bin/core_perl:/usr/lib/rustup/bin:/home/silv/.local/share/JetBrains/Toolbox/scripts',\n 'INVOCATION_ID': '87fde994fe6345b3bab86127be4b23af',\n 'XAUTHORITY': '/run/user/1000/.mutter-Xwaylandauth.BRY371',\n 'GDMSESSION': 'gnome',\n 'XDG_DATA_DIRS': '/home/silv/.local/share/flatpak/exports/share:/var/lib/flatpak/exports/share:/usr/local/share/:/usr/share/',\n 'MOTD_SHOWN': 'pam',\n 'DBUS_SESSION_BUS_ADDRESS': 'unix:path=/run/user/1000/bus',\n 'LANG': 'en_US.UTF-8',\n 'XDG_SESSION_TYPE': 'wayland',\n 'XDG_ACTIVATION_TOKEN': '<hidden>',\n 'PS1': '(.venv) ',\n 'XDG_CURRENT_DESKTOP': 'GNOME',\n 'JOURNAL_STREAM': '8:30177',\n 'DISPLAY': ':0',\n 'MAIL': '/var/spool/mail/silv',\n 'WAYLAND_DISPLAY': 'wayland-0',\n 'USERNAME': 'silv',\n 'SESSION_MANAGER': 'local/io:@/tmp/.ICE-unix/2176,unix/io:/tmp/.ICE-unix/2176',\n 'LOGNAME': 'silv',\n 'MANAGERPID': '2008',\n 'PWD': '/home/silv/projects/silv-io/mulambda-experiments',\n 'XDG_SESSION_CLASS': 'user',\n 'LANGUAGE': '',\n 'GJS_DEBUG_TOPICS': 'JS ERROR;JS LOG',\n 'PYTHONPATH': '/home/silv/projects/silv-io/mulambda-experiments',\n 'GDM_LANG': 'en_AT.UTF-8',\n 'SHELL': '/usr/bin/zsh',\n 'GIO_LAUNCHED_DESKTOP_FILE': '/usr/share/applications/pycharm-professional.desktop',\n 'PYENV_ROOT': '/home/silv/.pyenv',\n 'DESKTOP_SESSION': 'gnome',\n 'OLDPWD': '/home/silv',\n 'USER': 'silv',\n 'XDG_MENU_PREFIX': 'gnome-',\n 'GIO_LAUNCHED_DESKTOP_FILE_PID': '15156',\n 'GJS_DEBUG_OUTPUT': 'stderr',\n 'SSH_AUTH_SOCK': '/run/user/1000/keyring/ssh',\n 'VIRTUAL_ENV': '/home/silv/projects/silv-io/mulambda-experiments/.venv',\n 'LC_ALL': 'en_US.UTF-8',\n 'DEBUGINFOD_URLS': 'https://debuginfod.archlinux.org ',\n 'SYSTEMD_EXEC_PID': '2196',\n 'XDG_RUNTIME_DIR': '/run/user/1000',\n 'GNOME_SETUP_DISPLAY': ':1',\n 'XDG_SESSION_DESKTOP': 'gnome',\n 'SHLVL': '0',\n 'HOME': '/home/silv',\n 'PYDEVD_USE_FRAME_EVAL': 'NO',\n 'JPY_PARENT_PID': '84394',\n 'TERM': 'xterm-color',\n 'CLICOLOR': '1',\n 'FORCE_COLOR': '1',\n 'CLICOLOR_FORCE': '1',\n 'PAGER': 'cat',\n 'GIT_PAGER': 'cat',\n 'MPLBACKEND': 'module://matplotlib_inline.backend_inline',\n 'galileo_redis_host': 'localhost',\n 'galileo_redis_password': 'o4iljt34wt89l3njr3',\n 'galileo_expdb_driver': 'mixed',\n 'galileo_expdb_sqlite_path': './philipp_galileo.sqlite',\n 'galileo_logging_level': 'DEBUG',\n 'galileo_expdb_mysql_host': 'localhost',\n 'galileo_expdb_mysql_port': '3307',\n 'galileo_expdb_mysql_db': 'galileo',\n 'galileo_expdb_mysql_user': 'galileo',\n 'galileo_expdb_mysql_password': 'galileo',\n 'galileo_expdb_influxdb_url': 'http://localhost:8086',\n 'galileo_expdb_influxdb_token': '<hidden>',\n 'galileo_expdb_influxdb_timeout': '10000',\n 'galileo_expdb_influxdb_org': 'edgerun',\n 'galileo_expdb_influxdb_org_id': '2bb08062bda0d72f',\n 'KUBECONFIG': '/home/silv/exp-cluster/config.yaml'}"
     },
     "execution_count": 2,
     "metadata": {},
     "output_type": "execute_result"
    }
   ],
   "source": [
    "%env"
   ],
   "metadata": {
    "collapsed": false,
    "ExecuteTime": {
     "end_time": "2023-07-21T10:17:23.189621411Z",
     "start_time": "2023-07-21T10:17:23.177343209Z"
    }
   }
  },
  {
   "cell_type": "code",
   "execution_count": 3,
   "outputs": [],
   "source": [
    "ctx = Context()\n",
    "rds = ctx.create_redis()\n",
    "g = init(rds)\n",
    "exp = g['exp']\n",
    "telemd = g['telemd']"
   ],
   "metadata": {
    "collapsed": false,
    "ExecuteTime": {
     "end_time": "2023-07-21T10:17:33.734057694Z",
     "start_time": "2023-07-21T10:17:33.712242317Z"
    }
   }
  },
  {
   "cell_type": "code",
   "execution_count": 4,
   "outputs": [
    {
     "name": "stdout",
     "output_type": "stream",
     "text": [
      "experiment started\n"
     ]
    }
   ],
   "source": [
    "telemd.start_telemd()\n",
    "exp.start(name=\"local\", creator=\"silvio\", metadata={\"test\": \"test\"})"
   ],
   "metadata": {
    "collapsed": false,
    "ExecuteTime": {
     "end_time": "2023-07-21T10:17:35.391985258Z",
     "start_time": "2023-07-21T10:17:35.106115397Z"
    }
   }
  },
  {
   "cell_type": "code",
   "execution_count": 5,
   "outputs": [
    {
     "name": "stdout",
     "output_type": "stream",
     "text": [
      "waiting for experiment to end...\n",
      "ok\n"
     ]
    }
   ],
   "source": [
    "telemd.stop_telemd()\n",
    "exp.stop()"
   ],
   "metadata": {
    "collapsed": false,
    "ExecuteTime": {
     "end_time": "2023-07-21T10:17:37.294955755Z",
     "start_time": "2023-07-21T10:17:36.740116912Z"
    }
   }
  },
  {
   "cell_type": "code",
   "execution_count": null,
   "outputs": [],
   "source": [],
   "metadata": {
    "collapsed": false
   }
  }
 ],
 "metadata": {
  "kernelspec": {
   "display_name": "Python 3",
   "language": "python",
   "name": "python3"
  },
  "language_info": {
   "codemirror_mode": {
    "name": "ipython",
    "version": 2
   },
   "file_extension": ".py",
   "mimetype": "text/x-python",
   "name": "python",
   "nbconvert_exporter": "python",
   "pygments_lexer": "ipython2",
   "version": "2.7.6"
  }
 },
 "nbformat": 4,
 "nbformat_minor": 0
}
